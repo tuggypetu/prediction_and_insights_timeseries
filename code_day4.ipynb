{
 "cells": [
  {
   "cell_type": "code",
   "execution_count": 1,
   "id": "c4a99913-c2ad-4472-a37b-158dd7e30ec8",
   "metadata": {},
   "outputs": [],
   "source": [
    "import pandas as pd\n",
    "import numpy as np\n",
    "from tqdm import tqdm\n",
    "\n",
    "import matplotlib.pyplot as plt\n",
    "import seaborn as sns\n",
    "\n",
    "from datetime import datetime, time"
   ]
  },
  {
   "cell_type": "code",
   "execution_count": 2,
   "id": "3c547ebc-ca33-404a-8483-d4f2ad005d76",
   "metadata": {},
   "outputs": [],
   "source": [
    "pd.set_option('display.max_columns', None)\n",
    "pd.set_option('display.max_rows', 100)\n",
    "df_oct = pd.read_csv(\"data/vumonic_india_food_delivery_20231001_20231031.csv\", low_memory=False)\n",
    "df_nov = pd.read_csv(\"data/vumonic_india_food_delivery_20231101_20231130.csv\", low_memory=False)\n",
    "\n",
    "# with open('data/vumonic_india_food_delivery_20231201_20231231.csv', 'r') as f:\n",
    "#     first_line = f.readline()\n",
    "# columns = first_line.replace('\\n', '').split(',')\n",
    "columns = df_nov.columns\n",
    "\n",
    "df_dec = pd.read_csv('data/vumonic_india_food_delivery_20231201_20231231.csv', usecols=columns, encoding='latin-1', low_memory=False)\n",
    "\n",
    "df = pd.concat([df_dec, df_nov, df_oct], ignore_index=True)\n",
    "drop_columns = ['mid', 'year', 'order_promotion_discount', \n",
    "                'order_coupon_discount', 'order_seller_discount', 'order_delivery_discount',\n",
    "                'order_status', 'order_delivery_discount', 'delivery_address_postal_code', 'order_payment_currency',\n",
    "                'restaurant_address_postal_code', 'user_dob', 'user_address_postal_code', 'user_address_country']\n",
    "df =  df.drop(drop_columns, axis=1)\n",
    "df = df[df['user_age'] != 'male']"
   ]
  },
  {
   "cell_type": "code",
   "execution_count": 3,
   "id": "e830af0c-2478-4bf4-ade1-90a97d557508",
   "metadata": {},
   "outputs": [
    {
     "data": {
      "text/html": [
       "<div>\n",
       "<style scoped>\n",
       "    .dataframe tbody tr th:only-of-type {\n",
       "        vertical-align: middle;\n",
       "    }\n",
       "\n",
       "    .dataframe tbody tr th {\n",
       "        vertical-align: top;\n",
       "    }\n",
       "\n",
       "    .dataframe thead th {\n",
       "        text-align: right;\n",
       "    }\n",
       "</style>\n",
       "<table border=\"1\" class=\"dataframe\">\n",
       "  <thead>\n",
       "    <tr style=\"text-align: right;\">\n",
       "      <th></th>\n",
       "      <th>transaction_id</th>\n",
       "      <th>company</th>\n",
       "      <th>sender_id</th>\n",
       "      <th>email_timestamp</th>\n",
       "      <th>month</th>\n",
       "      <th>day</th>\n",
       "      <th>product_name</th>\n",
       "      <th>product_price</th>\n",
       "      <th>product_quantity</th>\n",
       "      <th>product_total</th>\n",
       "      <th>order_subtotal</th>\n",
       "      <th>order_convenience_fee</th>\n",
       "      <th>order_packaging_fee</th>\n",
       "      <th>order_delivery_fee</th>\n",
       "      <th>order_tip</th>\n",
       "      <th>order_taxes</th>\n",
       "      <th>order_membership_fee</th>\n",
       "      <th>order_discount</th>\n",
       "      <th>order_membership_discount</th>\n",
       "      <th>order_amount_paid</th>\n",
       "      <th>order_discount_code</th>\n",
       "      <th>premium_membership</th>\n",
       "      <th>premium_membership_type</th>\n",
       "      <th>free_delivery</th>\n",
       "      <th>order_payment_type</th>\n",
       "      <th>delivery_address_city</th>\n",
       "      <th>delivery_address_state</th>\n",
       "      <th>restaurant_name</th>\n",
       "      <th>restaurant_address_city</th>\n",
       "      <th>restaurant_address_state</th>\n",
       "      <th>user_id</th>\n",
       "      <th>user_gender</th>\n",
       "      <th>user_age</th>\n",
       "      <th>user_address_city</th>\n",
       "      <th>user_address_state</th>\n",
       "      <th>user_device_brand</th>\n",
       "      <th>user_device_model</th>\n",
       "      <th>user_os_type</th>\n",
       "      <th>user_onboard_at</th>\n",
       "      <th>user_inactive_at</th>\n",
       "    </tr>\n",
       "  </thead>\n",
       "  <tbody>\n",
       "    <tr>\n",
       "      <th>0</th>\n",
       "      <td>bfa86dc42518cc98cb1f6a5dc3ac6a5d</td>\n",
       "      <td>swiggy</td>\n",
       "      <td>noreply@swiggy.in</td>\n",
       "      <td>2023-12-01T00:08:24+00:00</td>\n",
       "      <td>12</td>\n",
       "      <td>1</td>\n",
       "      <td>Classic Chicken Roll</td>\n",
       "      <td>216.0</td>\n",
       "      <td>1.0</td>\n",
       "      <td>216.0</td>\n",
       "      <td>216.0</td>\n",
       "      <td>3.0</td>\n",
       "      <td>7.0</td>\n",
       "      <td>NaN</td>\n",
       "      <td>NaN</td>\n",
       "      <td>7.69</td>\n",
       "      <td>NaN</td>\n",
       "      <td>100.00</td>\n",
       "      <td>NaN</td>\n",
       "      <td>134.0</td>\n",
       "      <td>SWIGGYIT</td>\n",
       "      <td>True</td>\n",
       "      <td>swiggy_one</td>\n",
       "      <td>NaN</td>\n",
       "      <td>paytm</td>\n",
       "      <td>bangalore</td>\n",
       "      <td>karnataka</td>\n",
       "      <td>Rollsking</td>\n",
       "      <td>bangalore</td>\n",
       "      <td>karnataka</td>\n",
       "      <td>edb4a1a7320232810d47fdf695fdbeb1</td>\n",
       "      <td>male</td>\n",
       "      <td>23.0</td>\n",
       "      <td>Bengaluru</td>\n",
       "      <td>Karnataka</td>\n",
       "      <td>samsung</td>\n",
       "      <td>SM-G781B</td>\n",
       "      <td>android</td>\n",
       "      <td>2023-07-10T11:03:52.000Z</td>\n",
       "      <td>NaN</td>\n",
       "    </tr>\n",
       "    <tr>\n",
       "      <th>1</th>\n",
       "      <td>bfa86dc42518cc98cb1f6a5dc3ac6a5d</td>\n",
       "      <td>swiggy</td>\n",
       "      <td>noreply@swiggy.in</td>\n",
       "      <td>2023-12-01T00:08:24+00:00</td>\n",
       "      <td>12</td>\n",
       "      <td>1</td>\n",
       "      <td>Multigrain Laccha Paratha Roll</td>\n",
       "      <td>NaN</td>\n",
       "      <td>NaN</td>\n",
       "      <td>NaN</td>\n",
       "      <td>216.0</td>\n",
       "      <td>3.0</td>\n",
       "      <td>7.0</td>\n",
       "      <td>NaN</td>\n",
       "      <td>NaN</td>\n",
       "      <td>7.69</td>\n",
       "      <td>NaN</td>\n",
       "      <td>100.00</td>\n",
       "      <td>NaN</td>\n",
       "      <td>134.0</td>\n",
       "      <td>SWIGGYIT</td>\n",
       "      <td>True</td>\n",
       "      <td>swiggy_one</td>\n",
       "      <td>Free</td>\n",
       "      <td>paytm</td>\n",
       "      <td>bangalore</td>\n",
       "      <td>karnataka</td>\n",
       "      <td>Rollsking</td>\n",
       "      <td>bangalore</td>\n",
       "      <td>karnataka</td>\n",
       "      <td>edb4a1a7320232810d47fdf695fdbeb1</td>\n",
       "      <td>male</td>\n",
       "      <td>23.0</td>\n",
       "      <td>Bengaluru</td>\n",
       "      <td>Karnataka</td>\n",
       "      <td>samsung</td>\n",
       "      <td>SM-G781B</td>\n",
       "      <td>android</td>\n",
       "      <td>2023-07-10T11:03:52.000Z</td>\n",
       "      <td>NaN</td>\n",
       "    </tr>\n",
       "    <tr>\n",
       "      <th>2</th>\n",
       "      <td>614f8a99775ff921f7360f4140a7ba11</td>\n",
       "      <td>swiggy</td>\n",
       "      <td>noreply@swiggy.in</td>\n",
       "      <td>2023-12-01T00:10:41+00:00</td>\n",
       "      <td>12</td>\n",
       "      <td>1</td>\n",
       "      <td>Double Cheese Slice</td>\n",
       "      <td>NaN</td>\n",
       "      <td>NaN</td>\n",
       "      <td>NaN</td>\n",
       "      <td>256.0</td>\n",
       "      <td>3.0</td>\n",
       "      <td>10.0</td>\n",
       "      <td>NaN</td>\n",
       "      <td>NaN</td>\n",
       "      <td>8.84</td>\n",
       "      <td>NaN</td>\n",
       "      <td>99.99</td>\n",
       "      <td>NaN</td>\n",
       "      <td>178.0</td>\n",
       "      <td>FLATDEAL</td>\n",
       "      <td>True</td>\n",
       "      <td>swiggy_one</td>\n",
       "      <td>Free</td>\n",
       "      <td>bank</td>\n",
       "      <td>hyderabad</td>\n",
       "      <td>telangana</td>\n",
       "      <td>Shrimmers</td>\n",
       "      <td>hyderabad</td>\n",
       "      <td>telangana</td>\n",
       "      <td>a13bf807ac3741ae6d118472115fef00</td>\n",
       "      <td>male</td>\n",
       "      <td>28.0</td>\n",
       "      <td>Hyderabad</td>\n",
       "      <td>Telangana</td>\n",
       "      <td>realme</td>\n",
       "      <td>RMX3395</td>\n",
       "      <td>android</td>\n",
       "      <td>2023-05-02T22:38:13.000Z</td>\n",
       "      <td>NaN</td>\n",
       "    </tr>\n",
       "    <tr>\n",
       "      <th>3</th>\n",
       "      <td>614f8a99775ff921f7360f4140a7ba11</td>\n",
       "      <td>swiggy</td>\n",
       "      <td>noreply@swiggy.in</td>\n",
       "      <td>2023-12-01T00:10:41+00:00</td>\n",
       "      <td>12</td>\n",
       "      <td>1</td>\n",
       "      <td>Crispy Potato Burger</td>\n",
       "      <td>89.0</td>\n",
       "      <td>1.0</td>\n",
       "      <td>89.0</td>\n",
       "      <td>256.0</td>\n",
       "      <td>3.0</td>\n",
       "      <td>10.0</td>\n",
       "      <td>NaN</td>\n",
       "      <td>NaN</td>\n",
       "      <td>8.84</td>\n",
       "      <td>NaN</td>\n",
       "      <td>99.99</td>\n",
       "      <td>NaN</td>\n",
       "      <td>178.0</td>\n",
       "      <td>FLATDEAL</td>\n",
       "      <td>True</td>\n",
       "      <td>swiggy_one</td>\n",
       "      <td>NaN</td>\n",
       "      <td>bank</td>\n",
       "      <td>hyderabad</td>\n",
       "      <td>telangana</td>\n",
       "      <td>Shrimmers</td>\n",
       "      <td>hyderabad</td>\n",
       "      <td>telangana</td>\n",
       "      <td>a13bf807ac3741ae6d118472115fef00</td>\n",
       "      <td>male</td>\n",
       "      <td>28.0</td>\n",
       "      <td>Hyderabad</td>\n",
       "      <td>Telangana</td>\n",
       "      <td>realme</td>\n",
       "      <td>RMX3395</td>\n",
       "      <td>android</td>\n",
       "      <td>2023-05-02T22:38:13.000Z</td>\n",
       "      <td>NaN</td>\n",
       "    </tr>\n",
       "    <tr>\n",
       "      <th>4</th>\n",
       "      <td>614f8a99775ff921f7360f4140a7ba11</td>\n",
       "      <td>swiggy</td>\n",
       "      <td>noreply@swiggy.in</td>\n",
       "      <td>2023-12-01T00:10:41+00:00</td>\n",
       "      <td>12</td>\n",
       "      <td>1</td>\n",
       "      <td>Cheese Slice</td>\n",
       "      <td>NaN</td>\n",
       "      <td>NaN</td>\n",
       "      <td>NaN</td>\n",
       "      <td>256.0</td>\n",
       "      <td>3.0</td>\n",
       "      <td>10.0</td>\n",
       "      <td>NaN</td>\n",
       "      <td>NaN</td>\n",
       "      <td>8.84</td>\n",
       "      <td>NaN</td>\n",
       "      <td>99.99</td>\n",
       "      <td>NaN</td>\n",
       "      <td>178.0</td>\n",
       "      <td>FLATDEAL</td>\n",
       "      <td>True</td>\n",
       "      <td>swiggy_one</td>\n",
       "      <td>Free</td>\n",
       "      <td>bank</td>\n",
       "      <td>hyderabad</td>\n",
       "      <td>telangana</td>\n",
       "      <td>Shrimmers</td>\n",
       "      <td>hyderabad</td>\n",
       "      <td>telangana</td>\n",
       "      <td>a13bf807ac3741ae6d118472115fef00</td>\n",
       "      <td>male</td>\n",
       "      <td>28.0</td>\n",
       "      <td>Hyderabad</td>\n",
       "      <td>Telangana</td>\n",
       "      <td>realme</td>\n",
       "      <td>RMX3395</td>\n",
       "      <td>android</td>\n",
       "      <td>2023-05-02T22:38:13.000Z</td>\n",
       "      <td>NaN</td>\n",
       "    </tr>\n",
       "    <tr>\n",
       "      <th>...</th>\n",
       "      <td>...</td>\n",
       "      <td>...</td>\n",
       "      <td>...</td>\n",
       "      <td>...</td>\n",
       "      <td>...</td>\n",
       "      <td>...</td>\n",
       "      <td>...</td>\n",
       "      <td>...</td>\n",
       "      <td>...</td>\n",
       "      <td>...</td>\n",
       "      <td>...</td>\n",
       "      <td>...</td>\n",
       "      <td>...</td>\n",
       "      <td>...</td>\n",
       "      <td>...</td>\n",
       "      <td>...</td>\n",
       "      <td>...</td>\n",
       "      <td>...</td>\n",
       "      <td>...</td>\n",
       "      <td>...</td>\n",
       "      <td>...</td>\n",
       "      <td>...</td>\n",
       "      <td>...</td>\n",
       "      <td>...</td>\n",
       "      <td>...</td>\n",
       "      <td>...</td>\n",
       "      <td>...</td>\n",
       "      <td>...</td>\n",
       "      <td>...</td>\n",
       "      <td>...</td>\n",
       "      <td>...</td>\n",
       "      <td>...</td>\n",
       "      <td>...</td>\n",
       "      <td>...</td>\n",
       "      <td>...</td>\n",
       "      <td>...</td>\n",
       "      <td>...</td>\n",
       "      <td>...</td>\n",
       "      <td>...</td>\n",
       "      <td>...</td>\n",
       "    </tr>\n",
       "    <tr>\n",
       "      <th>741079</th>\n",
       "      <td>9838db546bd880398bae5e8de6a68c3b</td>\n",
       "      <td>swiggy</td>\n",
       "      <td>noreply@swiggy.in</td>\n",
       "      <td>2023-10-26T19:23:37+00:00</td>\n",
       "      <td>10</td>\n",
       "      <td>26</td>\n",
       "      <td>Egg Curry 3 Eggs</td>\n",
       "      <td>200.0</td>\n",
       "      <td>1.0</td>\n",
       "      <td>200.0</td>\n",
       "      <td>330.0</td>\n",
       "      <td>3.0</td>\n",
       "      <td>20.0</td>\n",
       "      <td>9.0</td>\n",
       "      <td>NaN</td>\n",
       "      <td>13.35</td>\n",
       "      <td>NaN</td>\n",
       "      <td>124.99</td>\n",
       "      <td>NaN</td>\n",
       "      <td>250.0</td>\n",
       "      <td>SUPERSAVER</td>\n",
       "      <td>NaN</td>\n",
       "      <td>NaN</td>\n",
       "      <td>NaN</td>\n",
       "      <td>NaN</td>\n",
       "      <td>eluru</td>\n",
       "      <td>andhra pradesh</td>\n",
       "      <td>Devi Homely Kitchen</td>\n",
       "      <td>NaN</td>\n",
       "      <td>andhra pradesh</td>\n",
       "      <td>50b87b56ac5691d53f45015e6484fbbf</td>\n",
       "      <td>male</td>\n",
       "      <td>28.0</td>\n",
       "      <td>Hyderabad</td>\n",
       "      <td>Telangana</td>\n",
       "      <td>samsung</td>\n",
       "      <td>SM-M405F</td>\n",
       "      <td>android</td>\n",
       "      <td>2020-03-22T03:29:32.000Z</td>\n",
       "      <td>NaN</td>\n",
       "    </tr>\n",
       "    <tr>\n",
       "      <th>741080</th>\n",
       "      <td>abfb444e117e7958b0b618ddcae44e39</td>\n",
       "      <td>swiggy</td>\n",
       "      <td>noreply@swiggy.in</td>\n",
       "      <td>2023-10-29T10:37:05+00:00</td>\n",
       "      <td>10</td>\n",
       "      <td>29</td>\n",
       "      <td>Chicken Fry Piece Biryani Half</td>\n",
       "      <td>250.0</td>\n",
       "      <td>1.0</td>\n",
       "      <td>250.0</td>\n",
       "      <td>250.0</td>\n",
       "      <td>3.0</td>\n",
       "      <td>NaN</td>\n",
       "      <td>9.0</td>\n",
       "      <td>NaN</td>\n",
       "      <td>8.35</td>\n",
       "      <td>NaN</td>\n",
       "      <td>125.00</td>\n",
       "      <td>NaN</td>\n",
       "      <td>145.0</td>\n",
       "      <td>SWIGGYWEEKENDS</td>\n",
       "      <td>NaN</td>\n",
       "      <td>NaN</td>\n",
       "      <td>NaN</td>\n",
       "      <td>NaN</td>\n",
       "      <td>eluru</td>\n",
       "      <td>andhra pradesh</td>\n",
       "      <td>Devi Homely Kitchen</td>\n",
       "      <td>NaN</td>\n",
       "      <td>andhra pradesh</td>\n",
       "      <td>50b87b56ac5691d53f45015e6484fbbf</td>\n",
       "      <td>male</td>\n",
       "      <td>28.0</td>\n",
       "      <td>Hyderabad</td>\n",
       "      <td>Telangana</td>\n",
       "      <td>samsung</td>\n",
       "      <td>SM-M405F</td>\n",
       "      <td>android</td>\n",
       "      <td>2020-03-22T03:29:32.000Z</td>\n",
       "      <td>NaN</td>\n",
       "    </tr>\n",
       "    <tr>\n",
       "      <th>741081</th>\n",
       "      <td>084f0df866d7928acf1c8f332184dec9</td>\n",
       "      <td>swiggy</td>\n",
       "      <td>noreply@swiggy.in</td>\n",
       "      <td>2023-10-30T09:30:29+00:00</td>\n",
       "      <td>10</td>\n",
       "      <td>30</td>\n",
       "      <td>Chicken Fry Biryani</td>\n",
       "      <td>320.0</td>\n",
       "      <td>1.0</td>\n",
       "      <td>320.0</td>\n",
       "      <td>320.0</td>\n",
       "      <td>3.0</td>\n",
       "      <td>12.0</td>\n",
       "      <td>9.0</td>\n",
       "      <td>NaN</td>\n",
       "      <td>14.64</td>\n",
       "      <td>NaN</td>\n",
       "      <td>50.00</td>\n",
       "      <td>NaN</td>\n",
       "      <td>309.0</td>\n",
       "      <td>SWIGGYIT</td>\n",
       "      <td>NaN</td>\n",
       "      <td>NaN</td>\n",
       "      <td>NaN</td>\n",
       "      <td>NaN</td>\n",
       "      <td>eluru</td>\n",
       "      <td>andhra pradesh</td>\n",
       "      <td>Royal Family Restaurant</td>\n",
       "      <td>NaN</td>\n",
       "      <td>andhra pradesh</td>\n",
       "      <td>50b87b56ac5691d53f45015e6484fbbf</td>\n",
       "      <td>male</td>\n",
       "      <td>28.0</td>\n",
       "      <td>Hyderabad</td>\n",
       "      <td>Telangana</td>\n",
       "      <td>samsung</td>\n",
       "      <td>SM-M405F</td>\n",
       "      <td>android</td>\n",
       "      <td>2020-03-22T03:29:32.000Z</td>\n",
       "      <td>NaN</td>\n",
       "    </tr>\n",
       "    <tr>\n",
       "      <th>741082</th>\n",
       "      <td>ad320c16a2e04078f50af1416107bda2</td>\n",
       "      <td>swiggy</td>\n",
       "      <td>noreply@swiggy.in</td>\n",
       "      <td>2023-10-05T06:57:56+00:00</td>\n",
       "      <td>10</td>\n",
       "      <td>5</td>\n",
       "      <td>Veg Delight Pizza</td>\n",
       "      <td>109.0</td>\n",
       "      <td>3.0</td>\n",
       "      <td>327.0</td>\n",
       "      <td>327.0</td>\n",
       "      <td>NaN</td>\n",
       "      <td>NaN</td>\n",
       "      <td>NaN</td>\n",
       "      <td>NaN</td>\n",
       "      <td>10.79</td>\n",
       "      <td>NaN</td>\n",
       "      <td>40.00</td>\n",
       "      <td>NaN</td>\n",
       "      <td>187.0</td>\n",
       "      <td>SWIGGYIT</td>\n",
       "      <td>NaN</td>\n",
       "      <td>NaN</td>\n",
       "      <td>NaN</td>\n",
       "      <td>NaN</td>\n",
       "      <td>indore</td>\n",
       "      <td>madhya pradesh</td>\n",
       "      <td>Chill Baby</td>\n",
       "      <td>indore</td>\n",
       "      <td>madhya pradesh</td>\n",
       "      <td>b68fb719a92cc48279b9644c6e671ab2</td>\n",
       "      <td>male</td>\n",
       "      <td>22.0</td>\n",
       "      <td>Indore</td>\n",
       "      <td>Madhya Pradesh</td>\n",
       "      <td>POCO</td>\n",
       "      <td>POCO M2 Pro</td>\n",
       "      <td>android</td>\n",
       "      <td>2020-04-30T04:04:02.000Z</td>\n",
       "      <td>NaN</td>\n",
       "    </tr>\n",
       "    <tr>\n",
       "      <th>741083</th>\n",
       "      <td>182b679125697bd33886fbae210186a4</td>\n",
       "      <td>swiggy</td>\n",
       "      <td>noreply@swiggy.in</td>\n",
       "      <td>2023-10-05T07:02:55+00:00</td>\n",
       "      <td>10</td>\n",
       "      <td>5</td>\n",
       "      <td>Kaju Curry</td>\n",
       "      <td>160.0</td>\n",
       "      <td>1.0</td>\n",
       "      <td>160.0</td>\n",
       "      <td>160.0</td>\n",
       "      <td>NaN</td>\n",
       "      <td>NaN</td>\n",
       "      <td>21.0</td>\n",
       "      <td>NaN</td>\n",
       "      <td>NaN</td>\n",
       "      <td>NaN</td>\n",
       "      <td>80.00</td>\n",
       "      <td>NaN</td>\n",
       "      <td>101.0</td>\n",
       "      <td>TRYNEW</td>\n",
       "      <td>NaN</td>\n",
       "      <td>NaN</td>\n",
       "      <td>NaN</td>\n",
       "      <td>swiggy_money | mobikwik</td>\n",
       "      <td>indore</td>\n",
       "      <td>madhya pradesh</td>\n",
       "      <td>shreeleela restaurant</td>\n",
       "      <td>NaN</td>\n",
       "      <td>madhya pradesh</td>\n",
       "      <td>b68fb719a92cc48279b9644c6e671ab2</td>\n",
       "      <td>male</td>\n",
       "      <td>22.0</td>\n",
       "      <td>Indore</td>\n",
       "      <td>Madhya Pradesh</td>\n",
       "      <td>POCO</td>\n",
       "      <td>POCO M2 Pro</td>\n",
       "      <td>android</td>\n",
       "      <td>2020-04-30T04:04:02.000Z</td>\n",
       "      <td>NaN</td>\n",
       "    </tr>\n",
       "  </tbody>\n",
       "</table>\n",
       "<p>741082 rows × 40 columns</p>\n",
       "</div>"
      ],
      "text/plain": [
       "                          transaction_id company          sender_id  \\\n",
       "0       bfa86dc42518cc98cb1f6a5dc3ac6a5d  swiggy  noreply@swiggy.in   \n",
       "1       bfa86dc42518cc98cb1f6a5dc3ac6a5d  swiggy  noreply@swiggy.in   \n",
       "2       614f8a99775ff921f7360f4140a7ba11  swiggy  noreply@swiggy.in   \n",
       "3       614f8a99775ff921f7360f4140a7ba11  swiggy  noreply@swiggy.in   \n",
       "4       614f8a99775ff921f7360f4140a7ba11  swiggy  noreply@swiggy.in   \n",
       "...                                  ...     ...                ...   \n",
       "741079  9838db546bd880398bae5e8de6a68c3b  swiggy  noreply@swiggy.in   \n",
       "741080  abfb444e117e7958b0b618ddcae44e39  swiggy  noreply@swiggy.in   \n",
       "741081  084f0df866d7928acf1c8f332184dec9  swiggy  noreply@swiggy.in   \n",
       "741082  ad320c16a2e04078f50af1416107bda2  swiggy  noreply@swiggy.in   \n",
       "741083  182b679125697bd33886fbae210186a4  swiggy  noreply@swiggy.in   \n",
       "\n",
       "                  email_timestamp  month  day                    product_name  \\\n",
       "0       2023-12-01T00:08:24+00:00     12    1            Classic Chicken Roll   \n",
       "1       2023-12-01T00:08:24+00:00     12    1  Multigrain Laccha Paratha Roll   \n",
       "2       2023-12-01T00:10:41+00:00     12    1             Double Cheese Slice   \n",
       "3       2023-12-01T00:10:41+00:00     12    1            Crispy Potato Burger   \n",
       "4       2023-12-01T00:10:41+00:00     12    1                    Cheese Slice   \n",
       "...                           ...    ...  ...                             ...   \n",
       "741079  2023-10-26T19:23:37+00:00     10   26                Egg Curry 3 Eggs   \n",
       "741080  2023-10-29T10:37:05+00:00     10   29  Chicken Fry Piece Biryani Half   \n",
       "741081  2023-10-30T09:30:29+00:00     10   30             Chicken Fry Biryani   \n",
       "741082  2023-10-05T06:57:56+00:00     10    5               Veg Delight Pizza   \n",
       "741083  2023-10-05T07:02:55+00:00     10    5                      Kaju Curry   \n",
       "\n",
       "       product_price  product_quantity  product_total  order_subtotal  \\\n",
       "0              216.0               1.0          216.0           216.0   \n",
       "1                NaN               NaN            NaN           216.0   \n",
       "2                NaN               NaN            NaN           256.0   \n",
       "3               89.0               1.0           89.0           256.0   \n",
       "4                NaN               NaN            NaN           256.0   \n",
       "...              ...               ...            ...             ...   \n",
       "741079         200.0               1.0          200.0           330.0   \n",
       "741080         250.0               1.0          250.0           250.0   \n",
       "741081         320.0               1.0          320.0           320.0   \n",
       "741082         109.0               3.0          327.0           327.0   \n",
       "741083         160.0               1.0          160.0           160.0   \n",
       "\n",
       "        order_convenience_fee  order_packaging_fee  order_delivery_fee  \\\n",
       "0                         3.0                  7.0                 NaN   \n",
       "1                         3.0                  7.0                 NaN   \n",
       "2                         3.0                 10.0                 NaN   \n",
       "3                         3.0                 10.0                 NaN   \n",
       "4                         3.0                 10.0                 NaN   \n",
       "...                       ...                  ...                 ...   \n",
       "741079                    3.0                 20.0                 9.0   \n",
       "741080                    3.0                  NaN                 9.0   \n",
       "741081                    3.0                 12.0                 9.0   \n",
       "741082                    NaN                  NaN                 NaN   \n",
       "741083                    NaN                  NaN                21.0   \n",
       "\n",
       "        order_tip  order_taxes  order_membership_fee  order_discount  \\\n",
       "0             NaN         7.69                   NaN          100.00   \n",
       "1             NaN         7.69                   NaN          100.00   \n",
       "2             NaN         8.84                   NaN           99.99   \n",
       "3             NaN         8.84                   NaN           99.99   \n",
       "4             NaN         8.84                   NaN           99.99   \n",
       "...           ...          ...                   ...             ...   \n",
       "741079        NaN        13.35                   NaN          124.99   \n",
       "741080        NaN         8.35                   NaN          125.00   \n",
       "741081        NaN        14.64                   NaN           50.00   \n",
       "741082        NaN        10.79                   NaN           40.00   \n",
       "741083        NaN          NaN                   NaN           80.00   \n",
       "\n",
       "        order_membership_discount  order_amount_paid order_discount_code  \\\n",
       "0                             NaN              134.0            SWIGGYIT   \n",
       "1                             NaN              134.0            SWIGGYIT   \n",
       "2                             NaN              178.0            FLATDEAL   \n",
       "3                             NaN              178.0            FLATDEAL   \n",
       "4                             NaN              178.0            FLATDEAL   \n",
       "...                           ...                ...                 ...   \n",
       "741079                        NaN              250.0          SUPERSAVER   \n",
       "741080                        NaN              145.0      SWIGGYWEEKENDS   \n",
       "741081                        NaN              309.0            SWIGGYIT   \n",
       "741082                        NaN              187.0            SWIGGYIT   \n",
       "741083                        NaN              101.0              TRYNEW   \n",
       "\n",
       "       premium_membership premium_membership_type free_delivery  \\\n",
       "0                    True              swiggy_one           NaN   \n",
       "1                    True              swiggy_one          Free   \n",
       "2                    True              swiggy_one          Free   \n",
       "3                    True              swiggy_one           NaN   \n",
       "4                    True              swiggy_one          Free   \n",
       "...                   ...                     ...           ...   \n",
       "741079                NaN                     NaN           NaN   \n",
       "741080                NaN                     NaN           NaN   \n",
       "741081                NaN                     NaN           NaN   \n",
       "741082                NaN                     NaN           NaN   \n",
       "741083                NaN                     NaN           NaN   \n",
       "\n",
       "             order_payment_type delivery_address_city delivery_address_state  \\\n",
       "0                         paytm             bangalore              karnataka   \n",
       "1                         paytm             bangalore              karnataka   \n",
       "2                          bank             hyderabad              telangana   \n",
       "3                          bank             hyderabad              telangana   \n",
       "4                          bank             hyderabad              telangana   \n",
       "...                         ...                   ...                    ...   \n",
       "741079                      NaN                 eluru         andhra pradesh   \n",
       "741080                      NaN                 eluru         andhra pradesh   \n",
       "741081                      NaN                 eluru         andhra pradesh   \n",
       "741082                      NaN                indore         madhya pradesh   \n",
       "741083  swiggy_money | mobikwik                indore         madhya pradesh   \n",
       "\n",
       "                restaurant_name restaurant_address_city  \\\n",
       "0                     Rollsking               bangalore   \n",
       "1                     Rollsking               bangalore   \n",
       "2                     Shrimmers               hyderabad   \n",
       "3                     Shrimmers               hyderabad   \n",
       "4                     Shrimmers               hyderabad   \n",
       "...                         ...                     ...   \n",
       "741079      Devi Homely Kitchen                     NaN   \n",
       "741080      Devi Homely Kitchen                     NaN   \n",
       "741081  Royal Family Restaurant                     NaN   \n",
       "741082               Chill Baby                  indore   \n",
       "741083    shreeleela restaurant                     NaN   \n",
       "\n",
       "       restaurant_address_state                           user_id user_gender  \\\n",
       "0                     karnataka  edb4a1a7320232810d47fdf695fdbeb1        male   \n",
       "1                     karnataka  edb4a1a7320232810d47fdf695fdbeb1        male   \n",
       "2                     telangana  a13bf807ac3741ae6d118472115fef00        male   \n",
       "3                     telangana  a13bf807ac3741ae6d118472115fef00        male   \n",
       "4                     telangana  a13bf807ac3741ae6d118472115fef00        male   \n",
       "...                         ...                               ...         ...   \n",
       "741079           andhra pradesh  50b87b56ac5691d53f45015e6484fbbf        male   \n",
       "741080           andhra pradesh  50b87b56ac5691d53f45015e6484fbbf        male   \n",
       "741081           andhra pradesh  50b87b56ac5691d53f45015e6484fbbf        male   \n",
       "741082           madhya pradesh  b68fb719a92cc48279b9644c6e671ab2        male   \n",
       "741083           madhya pradesh  b68fb719a92cc48279b9644c6e671ab2        male   \n",
       "\n",
       "       user_age user_address_city user_address_state user_device_brand  \\\n",
       "0          23.0         Bengaluru          Karnataka           samsung   \n",
       "1          23.0         Bengaluru          Karnataka           samsung   \n",
       "2          28.0         Hyderabad          Telangana            realme   \n",
       "3          28.0         Hyderabad          Telangana            realme   \n",
       "4          28.0         Hyderabad          Telangana            realme   \n",
       "...         ...               ...                ...               ...   \n",
       "741079     28.0         Hyderabad          Telangana           samsung   \n",
       "741080     28.0         Hyderabad          Telangana           samsung   \n",
       "741081     28.0         Hyderabad          Telangana           samsung   \n",
       "741082     22.0            Indore     Madhya Pradesh              POCO   \n",
       "741083     22.0            Indore     Madhya Pradesh              POCO   \n",
       "\n",
       "       user_device_model user_os_type           user_onboard_at  \\\n",
       "0               SM-G781B      android  2023-07-10T11:03:52.000Z   \n",
       "1               SM-G781B      android  2023-07-10T11:03:52.000Z   \n",
       "2                RMX3395      android  2023-05-02T22:38:13.000Z   \n",
       "3                RMX3395      android  2023-05-02T22:38:13.000Z   \n",
       "4                RMX3395      android  2023-05-02T22:38:13.000Z   \n",
       "...                  ...          ...                       ...   \n",
       "741079          SM-M405F      android  2020-03-22T03:29:32.000Z   \n",
       "741080          SM-M405F      android  2020-03-22T03:29:32.000Z   \n",
       "741081          SM-M405F      android  2020-03-22T03:29:32.000Z   \n",
       "741082       POCO M2 Pro      android  2020-04-30T04:04:02.000Z   \n",
       "741083       POCO M2 Pro      android  2020-04-30T04:04:02.000Z   \n",
       "\n",
       "       user_inactive_at  \n",
       "0                   NaN  \n",
       "1                   NaN  \n",
       "2                   NaN  \n",
       "3                   NaN  \n",
       "4                   NaN  \n",
       "...                 ...  \n",
       "741079              NaN  \n",
       "741080              NaN  \n",
       "741081              NaN  \n",
       "741082              NaN  \n",
       "741083              NaN  \n",
       "\n",
       "[741082 rows x 40 columns]"
      ]
     },
     "execution_count": 3,
     "metadata": {},
     "output_type": "execute_result"
    }
   ],
   "source": [
    "df"
   ]
  },
  {
   "cell_type": "code",
   "execution_count": 150,
   "id": "63b0e1a1-66ae-4888-9c59-085f2e70b6cc",
   "metadata": {},
   "outputs": [
    {
     "data": {
      "text/html": [
       "<div>\n",
       "<style scoped>\n",
       "    .dataframe tbody tr th:only-of-type {\n",
       "        vertical-align: middle;\n",
       "    }\n",
       "\n",
       "    .dataframe tbody tr th {\n",
       "        vertical-align: top;\n",
       "    }\n",
       "\n",
       "    .dataframe thead th {\n",
       "        text-align: right;\n",
       "    }\n",
       "</style>\n",
       "<table border=\"1\" class=\"dataframe\">\n",
       "  <thead>\n",
       "    <tr style=\"text-align: right;\">\n",
       "      <th></th>\n",
       "      <th>order_amount_paid</th>\n",
       "    </tr>\n",
       "    <tr>\n",
       "      <th>company</th>\n",
       "      <th></th>\n",
       "    </tr>\n",
       "  </thead>\n",
       "  <tbody>\n",
       "    <tr>\n",
       "      <th>swiggy</th>\n",
       "      <td>64056790.00</td>\n",
       "    </tr>\n",
       "    <tr>\n",
       "      <th>zomato</th>\n",
       "      <td>70410621.16</td>\n",
       "    </tr>\n",
       "  </tbody>\n",
       "</table>\n",
       "</div>"
      ],
      "text/plain": [
       "         order_amount_paid\n",
       "company                   \n",
       "swiggy         64056790.00\n",
       "zomato         70410621.16"
      ]
     },
     "execution_count": 150,
     "metadata": {},
     "output_type": "execute_result"
    }
   ],
   "source": [
    "df.groupby(['company', 'transaction_id'], dropna=False).mean().groupby('company', dropna=False).sum()[['order_amount_paid']]"
   ]
  },
  {
   "cell_type": "code",
   "execution_count": 151,
   "id": "8b795ef5-cade-4e73-a8db-b7cebe1a7261",
   "metadata": {},
   "outputs": [
    {
     "data": {
      "text/plain": [
       "134467411.16"
      ]
     },
     "execution_count": 151,
     "metadata": {},
     "output_type": "execute_result"
    }
   ],
   "source": [
    "70410621.16 + 64056790.00"
   ]
  },
  {
   "cell_type": "code",
   "execution_count": 155,
   "id": "f530d9fc-c4c9-4e4b-9a82-03e66835174a",
   "metadata": {},
   "outputs": [
    {
     "data": {
      "text/plain": [
       "0.09919059571982917"
      ]
     },
     "execution_count": 155,
     "metadata": {},
     "output_type": "execute_result"
    }
   ],
   "source": [
    "(70410621.16 - 64056790.00)/ 64056790.00"
   ]
  },
  {
   "cell_type": "code",
   "execution_count": 153,
   "id": "42f0e11a-e166-44f7-9e87-510852f6a869",
   "metadata": {},
   "outputs": [
    {
     "data": {
      "text/plain": [
       "0.47637408534459064"
      ]
     },
     "execution_count": 153,
     "metadata": {},
     "output_type": "execute_result"
    }
   ],
   "source": [
    "64056790.00 / 134467411.16"
   ]
  },
  {
   "cell_type": "code",
   "execution_count": null,
   "id": "b9afa406-d6d5-4fff-8d78-9d51a30c3e5f",
   "metadata": {},
   "outputs": [],
   "source": []
  },
  {
   "cell_type": "code",
   "execution_count": 114,
   "id": "ed2b972c-ae81-4d9d-a2c0-75de0821b4c7",
   "metadata": {},
   "outputs": [
    {
     "name": "stdout",
     "output_type": "stream",
     "text": [
      "18051 17158 16246\n"
     ]
    }
   ],
   "source": [
    "oct_ids = df[(df.month == 10) & (df.company == \"swiggy\")].user_id.unique()\n",
    "nov_ids = df[(df.month == 11) & (df.company == \"swiggy\")].user_id.unique()\n",
    "dec_ids = df[(df.month == 12) & (df.company == \"swiggy\")].user_id.unique()\n",
    "print(len(oct_ids), len(nov_ids), len(dec_ids))"
   ]
  },
  {
   "cell_type": "code",
   "execution_count": 115,
   "id": "3344d25d-2ee0-4ab8-ae92-5b80c0059c87",
   "metadata": {},
   "outputs": [
    {
     "data": {
      "text/plain": [
       "9975"
      ]
     },
     "execution_count": 115,
     "metadata": {},
     "output_type": "execute_result"
    }
   ],
   "source": [
    "len([i for i in nov_ids if i in oct_ids])"
   ]
  },
  {
   "cell_type": "code",
   "execution_count": 116,
   "id": "a5ddf1d1-ff4b-441e-b2f0-76d0db987f47",
   "metadata": {},
   "outputs": [
    {
     "data": {
      "text/plain": [
       "8793"
      ]
     },
     "execution_count": 116,
     "metadata": {},
     "output_type": "execute_result"
    }
   ],
   "source": [
    "len([i for i in dec_ids if i in oct_ids])"
   ]
  },
  {
   "cell_type": "code",
   "execution_count": 117,
   "id": "9969e0b8-7996-4b89-8296-247279c3cd7b",
   "metadata": {},
   "outputs": [
    {
     "data": {
      "text/plain": [
       "9596"
      ]
     },
     "execution_count": 117,
     "metadata": {},
     "output_type": "execute_result"
    }
   ],
   "source": [
    "len([i for i in dec_ids if i in nov_ids])"
   ]
  },
  {
   "cell_type": "code",
   "execution_count": 118,
   "id": "fe786bd0-1b9c-412a-8e50-d5ebe7f17f7b",
   "metadata": {},
   "outputs": [
    {
     "data": {
      "text/plain": [
       "7096"
      ]
     },
     "execution_count": 118,
     "metadata": {},
     "output_type": "execute_result"
    }
   ],
   "source": [
    "len([i for i in dec_ids if i in nov_ids and i in oct_ids])"
   ]
  },
  {
   "cell_type": "code",
   "execution_count": 119,
   "id": "397c3706-9b8f-4fbd-954d-f84d011cb213",
   "metadata": {},
   "outputs": [
    {
     "data": {
      "text/plain": [
       "11293"
      ]
     },
     "execution_count": 119,
     "metadata": {},
     "output_type": "execute_result"
    }
   ],
   "source": [
    "len([i for i in dec_ids if i in nov_ids or i in oct_ids])"
   ]
  },
  {
   "cell_type": "code",
   "execution_count": null,
   "id": "8cc8b4b8-f732-44db-99a3-531df0490771",
   "metadata": {},
   "outputs": [],
   "source": []
  },
  {
   "cell_type": "code",
   "execution_count": 120,
   "id": "4d2ebe09-7dd7-4aa8-8cc8-25d5bc3a3ca9",
   "metadata": {},
   "outputs": [
    {
     "data": {
      "text/plain": [
       "0.5813614640400979"
      ]
     },
     "execution_count": 120,
     "metadata": {},
     "output_type": "execute_result"
    }
   ],
   "source": [
    "len([i for i in nov_ids if i in oct_ids]) / len(nov_ids)"
   ]
  },
  {
   "cell_type": "code",
   "execution_count": 121,
   "id": "6cb62156-46aa-4e1e-ae1f-71c5157d8482",
   "metadata": {},
   "outputs": [
    {
     "data": {
      "text/plain": [
       "0.5412409208420534"
      ]
     },
     "execution_count": 121,
     "metadata": {},
     "output_type": "execute_result"
    }
   ],
   "source": [
    "len([i for i in dec_ids if i in oct_ids]) / len(dec_ids)"
   ]
  },
  {
   "cell_type": "code",
   "execution_count": 122,
   "id": "dead0564-b7d0-4053-9772-a94e3380b232",
   "metadata": {},
   "outputs": [
    {
     "data": {
      "text/plain": [
       "0.5906684722393204"
      ]
     },
     "execution_count": 122,
     "metadata": {},
     "output_type": "execute_result"
    }
   ],
   "source": [
    "len([i for i in dec_ids if i in nov_ids]) / len(dec_ids)"
   ]
  },
  {
   "cell_type": "code",
   "execution_count": 123,
   "id": "13114a07-e51a-4af7-a112-beb7939a7ce8",
   "metadata": {},
   "outputs": [
    {
     "data": {
      "text/plain": [
       "0.4367844392465838"
      ]
     },
     "execution_count": 123,
     "metadata": {},
     "output_type": "execute_result"
    }
   ],
   "source": [
    "len([i for i in dec_ids if i in nov_ids and i in oct_ids]) / len(dec_ids)"
   ]
  },
  {
   "cell_type": "code",
   "execution_count": 124,
   "id": "90b5c874-6e99-46b7-8a79-f71f1e2fbb9c",
   "metadata": {},
   "outputs": [
    {
     "data": {
      "text/plain": [
       "0.6951249538347901"
      ]
     },
     "execution_count": 124,
     "metadata": {},
     "output_type": "execute_result"
    }
   ],
   "source": [
    "len([i for i in dec_ids if i in nov_ids or i in oct_ids]) / len(dec_ids)"
   ]
  },
  {
   "cell_type": "code",
   "execution_count": 140,
   "id": "12bbc8c7-369d-4268-a7c0-3b6beeee5e74",
   "metadata": {},
   "outputs": [
    {
     "name": "stdout",
     "output_type": "stream",
     "text": [
      "15893 15585 15190\n"
     ]
    }
   ],
   "source": [
    "oct_ids = df[(df.month == 10) & (df.company == \"zomato\")].user_id.unique()\n",
    "nov_ids = df[(df.month == 11) & (df.company == \"zomato\")].user_id.unique()\n",
    "dec_ids = df[(df.month == 12) & (df.company == \"zomato\")].user_id.unique()\n",
    "print(len(oct_ids), len(nov_ids), len(dec_ids))"
   ]
  },
  {
   "cell_type": "code",
   "execution_count": 126,
   "id": "fa95092a-68c5-4160-b492-3c6b04fb606a",
   "metadata": {},
   "outputs": [
    {
     "data": {
      "text/plain": [
       "10077"
      ]
     },
     "execution_count": 126,
     "metadata": {},
     "output_type": "execute_result"
    }
   ],
   "source": [
    "len([i for i in nov_ids if i in oct_ids])"
   ]
  },
  {
   "cell_type": "code",
   "execution_count": 127,
   "id": "9f3292fa-3ea2-4c05-835a-978275a44fe5",
   "metadata": {},
   "outputs": [
    {
     "data": {
      "text/plain": [
       "9276"
      ]
     },
     "execution_count": 127,
     "metadata": {},
     "output_type": "execute_result"
    }
   ],
   "source": [
    "len([i for i in dec_ids if i in oct_ids])"
   ]
  },
  {
   "cell_type": "code",
   "execution_count": 128,
   "id": "536d3d76-3b7f-4358-a209-215c39cab929",
   "metadata": {},
   "outputs": [
    {
     "data": {
      "text/plain": [
       "9947"
      ]
     },
     "execution_count": 128,
     "metadata": {},
     "output_type": "execute_result"
    }
   ],
   "source": [
    "len([i for i in dec_ids if i in nov_ids])"
   ]
  },
  {
   "cell_type": "code",
   "execution_count": 129,
   "id": "e168bd6a-1e0e-4040-9171-20ddbd44def5",
   "metadata": {},
   "outputs": [
    {
     "data": {
      "text/plain": [
       "7602"
      ]
     },
     "execution_count": 129,
     "metadata": {},
     "output_type": "execute_result"
    }
   ],
   "source": [
    "len([i for i in dec_ids if i in nov_ids and i in oct_ids])"
   ]
  },
  {
   "cell_type": "code",
   "execution_count": 130,
   "id": "34a78765-9104-4847-8910-6383e3fbcd3a",
   "metadata": {},
   "outputs": [
    {
     "data": {
      "text/plain": [
       "11621"
      ]
     },
     "execution_count": 130,
     "metadata": {},
     "output_type": "execute_result"
    }
   ],
   "source": [
    "len([i for i in dec_ids if i in nov_ids or i in oct_ids])"
   ]
  },
  {
   "cell_type": "code",
   "execution_count": null,
   "id": "3c15236d-e5dd-45b7-a6ff-18813f7f0e03",
   "metadata": {},
   "outputs": [],
   "source": []
  },
  {
   "cell_type": "code",
   "execution_count": 131,
   "id": "61c2d920-c8ae-4ee0-9b6b-cd31e46385d9",
   "metadata": {},
   "outputs": [
    {
     "data": {
      "text/plain": [
       "0.6465832531280077"
      ]
     },
     "execution_count": 131,
     "metadata": {},
     "output_type": "execute_result"
    }
   ],
   "source": [
    "len([i for i in nov_ids if i in oct_ids]) / len(nov_ids)"
   ]
  },
  {
   "cell_type": "code",
   "execution_count": 132,
   "id": "d6f5e21d-5bba-47c7-b65c-84cfb252a58d",
   "metadata": {},
   "outputs": [
    {
     "data": {
      "text/plain": [
       "0.6106649111257406"
      ]
     },
     "execution_count": 132,
     "metadata": {},
     "output_type": "execute_result"
    }
   ],
   "source": [
    "len([i for i in dec_ids if i in oct_ids]) / len(dec_ids)"
   ]
  },
  {
   "cell_type": "code",
   "execution_count": 133,
   "id": "a0349050-be12-4759-9a9c-e4a958533f22",
   "metadata": {},
   "outputs": [
    {
     "data": {
      "text/plain": [
       "0.6548387096774193"
      ]
     },
     "execution_count": 133,
     "metadata": {},
     "output_type": "execute_result"
    }
   ],
   "source": [
    "len([i for i in dec_ids if i in nov_ids]) / len(dec_ids)"
   ]
  },
  {
   "cell_type": "code",
   "execution_count": 134,
   "id": "a4b8b2c9-7989-40da-97a5-d9a581817b04",
   "metadata": {},
   "outputs": [
    {
     "data": {
      "text/plain": [
       "0.5004608294930876"
      ]
     },
     "execution_count": 134,
     "metadata": {},
     "output_type": "execute_result"
    }
   ],
   "source": [
    "len([i for i in dec_ids if i in nov_ids and i in oct_ids]) / len(dec_ids)"
   ]
  },
  {
   "cell_type": "code",
   "execution_count": 135,
   "id": "7e591bd7-6ec2-420b-a53c-a3502b680391",
   "metadata": {},
   "outputs": [
    {
     "data": {
      "text/plain": [
       "0.7650427913100725"
      ]
     },
     "execution_count": 135,
     "metadata": {},
     "output_type": "execute_result"
    }
   ],
   "source": [
    "len([i for i in dec_ids if i in nov_ids or i in oct_ids]) / len(dec_ids)"
   ]
  },
  {
   "cell_type": "code",
   "execution_count": null,
   "id": "3aa2aad5-01a0-4eb0-89a3-98b9009e5370",
   "metadata": {},
   "outputs": [],
   "source": []
  },
  {
   "cell_type": "code",
   "execution_count": null,
   "id": "97e07f3c-e998-4489-a13e-70546068896e",
   "metadata": {},
   "outputs": [],
   "source": []
  },
  {
   "cell_type": "code",
   "execution_count": 84,
   "id": "3c3952de-bdbd-4dc2-a789-ade99b45c4b2",
   "metadata": {},
   "outputs": [],
   "source": [
    "df[\"state\"] = df[['delivery_address_state', 'restaurant_address_state', 'user_address_state']].apply(\n",
    "    lambda row: next((x.lower().replace('&', 'and').replace(' islands', '') for x in row if not pd.isnull(x)), np.nan), axis=1)"
   ]
  },
  {
   "cell_type": "code",
   "execution_count": 141,
   "id": "2c14aba8-41da-4341-88a0-8fd5d7246fca",
   "metadata": {},
   "outputs": [
    {
     "data": {
      "text/html": [
       "<div>\n",
       "<style scoped>\n",
       "    .dataframe tbody tr th:only-of-type {\n",
       "        vertical-align: middle;\n",
       "    }\n",
       "\n",
       "    .dataframe tbody tr th {\n",
       "        vertical-align: top;\n",
       "    }\n",
       "\n",
       "    .dataframe thead th {\n",
       "        text-align: right;\n",
       "    }\n",
       "</style>\n",
       "<table border=\"1\" class=\"dataframe\">\n",
       "  <thead>\n",
       "    <tr style=\"text-align: right;\">\n",
       "      <th></th>\n",
       "      <th>month</th>\n",
       "      <th>company</th>\n",
       "      <th>state</th>\n",
       "      <th>user_id</th>\n",
       "      <th>transaction_id</th>\n",
       "      <th>order_subtotal</th>\n",
       "    </tr>\n",
       "  </thead>\n",
       "  <tbody>\n",
       "    <tr>\n",
       "      <th>0</th>\n",
       "      <td>10</td>\n",
       "      <td>swiggy</td>\n",
       "      <td>andaman and nicobar</td>\n",
       "      <td>0639b3fc2102209bd35f8c3b1dcd12c6</td>\n",
       "      <td>0c1b9f3609be3c5765f1e03cb8c31ac3</td>\n",
       "      <td>3</td>\n",
       "    </tr>\n",
       "    <tr>\n",
       "      <th>1</th>\n",
       "      <td>10</td>\n",
       "      <td>swiggy</td>\n",
       "      <td>andaman and nicobar</td>\n",
       "      <td>0639b3fc2102209bd35f8c3b1dcd12c6</td>\n",
       "      <td>21c43124a52f184b7f96984e8a999da1</td>\n",
       "      <td>1</td>\n",
       "    </tr>\n",
       "    <tr>\n",
       "      <th>2</th>\n",
       "      <td>10</td>\n",
       "      <td>swiggy</td>\n",
       "      <td>andaman and nicobar</td>\n",
       "      <td>097cfd1653b08d2ebda2fc10adad0b62</td>\n",
       "      <td>1655a435b0849f068356e00bae925308</td>\n",
       "      <td>3</td>\n",
       "    </tr>\n",
       "    <tr>\n",
       "      <th>3</th>\n",
       "      <td>10</td>\n",
       "      <td>swiggy</td>\n",
       "      <td>andaman and nicobar</td>\n",
       "      <td>097cfd1653b08d2ebda2fc10adad0b62</td>\n",
       "      <td>1fee8b430cd3ceca7416ce1fa355adba</td>\n",
       "      <td>2</td>\n",
       "    </tr>\n",
       "    <tr>\n",
       "      <th>4</th>\n",
       "      <td>10</td>\n",
       "      <td>swiggy</td>\n",
       "      <td>andaman and nicobar</td>\n",
       "      <td>097cfd1653b08d2ebda2fc10adad0b62</td>\n",
       "      <td>215cd270ff973aa304049e9553b42680</td>\n",
       "      <td>3</td>\n",
       "    </tr>\n",
       "    <tr>\n",
       "      <th>...</th>\n",
       "      <td>...</td>\n",
       "      <td>...</td>\n",
       "      <td>...</td>\n",
       "      <td>...</td>\n",
       "      <td>...</td>\n",
       "      <td>...</td>\n",
       "    </tr>\n",
       "    <tr>\n",
       "      <th>394115</th>\n",
       "      <td>12</td>\n",
       "      <td>zomato</td>\n",
       "      <td>NaN</td>\n",
       "      <td>fdc96f0a820f28344595aae9a1a1805e</td>\n",
       "      <td>82af9688d4cd205f828fb24244720de1</td>\n",
       "      <td>0</td>\n",
       "    </tr>\n",
       "    <tr>\n",
       "      <th>394116</th>\n",
       "      <td>12</td>\n",
       "      <td>zomato</td>\n",
       "      <td>NaN</td>\n",
       "      <td>fdc96f0a820f28344595aae9a1a1805e</td>\n",
       "      <td>d73f9e6da4bcea602c85a78bad5c3847</td>\n",
       "      <td>0</td>\n",
       "    </tr>\n",
       "    <tr>\n",
       "      <th>394117</th>\n",
       "      <td>12</td>\n",
       "      <td>zomato</td>\n",
       "      <td>NaN</td>\n",
       "      <td>fe52548c5dac3431f044fdaaee1c2bdc</td>\n",
       "      <td>661c55c1e871d8c852d40ffb85034e2c</td>\n",
       "      <td>0</td>\n",
       "    </tr>\n",
       "    <tr>\n",
       "      <th>394118</th>\n",
       "      <td>12</td>\n",
       "      <td>zomato</td>\n",
       "      <td>NaN</td>\n",
       "      <td>ff68edd9d1b54af13343f9b4de4676c9</td>\n",
       "      <td>3a11f76c5acc149f88cc43270c65bd40</td>\n",
       "      <td>0</td>\n",
       "    </tr>\n",
       "    <tr>\n",
       "      <th>394119</th>\n",
       "      <td>12</td>\n",
       "      <td>zomato</td>\n",
       "      <td>NaN</td>\n",
       "      <td>ff68edd9d1b54af13343f9b4de4676c9</td>\n",
       "      <td>649ce4e81ad40756b4509f65f5ec68b8</td>\n",
       "      <td>0</td>\n",
       "    </tr>\n",
       "  </tbody>\n",
       "</table>\n",
       "<p>394120 rows × 6 columns</p>\n",
       "</div>"
      ],
      "text/plain": [
       "        month company                state                           user_id  \\\n",
       "0          10  swiggy  andaman and nicobar  0639b3fc2102209bd35f8c3b1dcd12c6   \n",
       "1          10  swiggy  andaman and nicobar  0639b3fc2102209bd35f8c3b1dcd12c6   \n",
       "2          10  swiggy  andaman and nicobar  097cfd1653b08d2ebda2fc10adad0b62   \n",
       "3          10  swiggy  andaman and nicobar  097cfd1653b08d2ebda2fc10adad0b62   \n",
       "4          10  swiggy  andaman and nicobar  097cfd1653b08d2ebda2fc10adad0b62   \n",
       "...       ...     ...                  ...                               ...   \n",
       "394115     12  zomato                  NaN  fdc96f0a820f28344595aae9a1a1805e   \n",
       "394116     12  zomato                  NaN  fdc96f0a820f28344595aae9a1a1805e   \n",
       "394117     12  zomato                  NaN  fe52548c5dac3431f044fdaaee1c2bdc   \n",
       "394118     12  zomato                  NaN  ff68edd9d1b54af13343f9b4de4676c9   \n",
       "394119     12  zomato                  NaN  ff68edd9d1b54af13343f9b4de4676c9   \n",
       "\n",
       "                          transaction_id  order_subtotal  \n",
       "0       0c1b9f3609be3c5765f1e03cb8c31ac3               3  \n",
       "1       21c43124a52f184b7f96984e8a999da1               1  \n",
       "2       1655a435b0849f068356e00bae925308               3  \n",
       "3       1fee8b430cd3ceca7416ce1fa355adba               2  \n",
       "4       215cd270ff973aa304049e9553b42680               3  \n",
       "...                                  ...             ...  \n",
       "394115  82af9688d4cd205f828fb24244720de1               0  \n",
       "394116  d73f9e6da4bcea602c85a78bad5c3847               0  \n",
       "394117  661c55c1e871d8c852d40ffb85034e2c               0  \n",
       "394118  3a11f76c5acc149f88cc43270c65bd40               0  \n",
       "394119  649ce4e81ad40756b4509f65f5ec68b8               0  \n",
       "\n",
       "[394120 rows x 6 columns]"
      ]
     },
     "execution_count": 141,
     "metadata": {},
     "output_type": "execute_result"
    }
   ],
   "source": [
    "gg = df[['month', 'company', 'state', 'user_id', 'transaction_id', 'order_subtotal']]\n",
    "gg = gg.groupby(['month', 'company', 'state', 'user_id', 'transaction_id'], dropna=False).count().reset_index()\n",
    "# gg = gg.groupby(['month', 'company', 'state'], dropna=False).count().reset_index()[['month', 'company', 'state', 'user_id']]\n",
    "gg"
   ]
  },
  {
   "cell_type": "code",
   "execution_count": 86,
   "id": "43667998-c6e8-426b-8c45-ba705de1de86",
   "metadata": {},
   "outputs": [
    {
     "data": {
      "text/plain": [
       "array(['andaman and nicobar', 'andhra pradesh', 'assam', 'bihar',\n",
       "       'chandigarh', 'chattisgarh', 'chhattisgarh', 'daman and diu',\n",
       "       'delhi', 'goa', 'gujarat', 'haryana', 'himachal pradesh',\n",
       "       'jammu and kashmir', 'jharkhand', 'karnataka', 'kerala',\n",
       "       'madhya pradesh', 'maharashtra', 'manipur', 'meghalaya', 'mizoram',\n",
       "       'nagaland', 'national capital territory of delhi', 'odisha',\n",
       "       'pondicherry', 'punjab', 'rajasthan', 'sikkim', 'tamil nadu',\n",
       "       'telangana', 'tripura', 'union territory of puducherry',\n",
       "       'uttar pradesh', 'uttarakhand', 'west bengal', nan,\n",
       "       'arunachal pradesh', 'dadra and nagar haveli',\n",
       "       'dadra and nagar haveli and daman and diu'], dtype=object)"
      ]
     },
     "execution_count": 86,
     "metadata": {},
     "output_type": "execute_result"
    }
   ],
   "source": [
    "gg.state.unique()"
   ]
  },
  {
   "cell_type": "code",
   "execution_count": 146,
   "id": "c7f08716-a697-4343-b076-c69b0ad91b38",
   "metadata": {},
   "outputs": [
    {
     "data": {
      "text/html": [
       "<div>\n",
       "<style scoped>\n",
       "    .dataframe tbody tr th:only-of-type {\n",
       "        vertical-align: middle;\n",
       "    }\n",
       "\n",
       "    .dataframe tbody tr th {\n",
       "        vertical-align: top;\n",
       "    }\n",
       "\n",
       "    .dataframe thead th {\n",
       "        text-align: right;\n",
       "    }\n",
       "</style>\n",
       "<table border=\"1\" class=\"dataframe\">\n",
       "  <thead>\n",
       "    <tr style=\"text-align: right;\">\n",
       "      <th></th>\n",
       "      <th>month</th>\n",
       "      <th>company</th>\n",
       "      <th>unique_users</th>\n",
       "    </tr>\n",
       "  </thead>\n",
       "  <tbody>\n",
       "    <tr>\n",
       "      <th>0</th>\n",
       "      <td>10</td>\n",
       "      <td>swiggy</td>\n",
       "      <td>18051</td>\n",
       "    </tr>\n",
       "    <tr>\n",
       "      <th>1</th>\n",
       "      <td>10</td>\n",
       "      <td>zomato</td>\n",
       "      <td>15893</td>\n",
       "    </tr>\n",
       "    <tr>\n",
       "      <th>2</th>\n",
       "      <td>11</td>\n",
       "      <td>swiggy</td>\n",
       "      <td>17158</td>\n",
       "    </tr>\n",
       "    <tr>\n",
       "      <th>3</th>\n",
       "      <td>11</td>\n",
       "      <td>zomato</td>\n",
       "      <td>15585</td>\n",
       "    </tr>\n",
       "    <tr>\n",
       "      <th>4</th>\n",
       "      <td>12</td>\n",
       "      <td>swiggy</td>\n",
       "      <td>16246</td>\n",
       "    </tr>\n",
       "    <tr>\n",
       "      <th>5</th>\n",
       "      <td>12</td>\n",
       "      <td>zomato</td>\n",
       "      <td>15190</td>\n",
       "    </tr>\n",
       "  </tbody>\n",
       "</table>\n",
       "</div>"
      ],
      "text/plain": [
       "   month company  unique_users\n",
       "0     10  swiggy         18051\n",
       "1     10  zomato         15893\n",
       "2     11  swiggy         17158\n",
       "3     11  zomato         15585\n",
       "4     12  swiggy         16246\n",
       "5     12  zomato         15190"
      ]
     },
     "execution_count": 146,
     "metadata": {},
     "output_type": "execute_result"
    }
   ],
   "source": [
    "gg.groupby(['month', 'company'])['user_id'].nunique().reset_index(name='unique_users')"
   ]
  },
  {
   "cell_type": "code",
   "execution_count": 161,
   "id": "d52e87ac-c335-498f-b2bc-34f50bb638dc",
   "metadata": {},
   "outputs": [
    {
     "data": {
      "text/html": [
       "<div>\n",
       "<style scoped>\n",
       "    .dataframe tbody tr th:only-of-type {\n",
       "        vertical-align: middle;\n",
       "    }\n",
       "\n",
       "    .dataframe tbody tr th {\n",
       "        vertical-align: top;\n",
       "    }\n",
       "\n",
       "    .dataframe thead th {\n",
       "        text-align: right;\n",
       "    }\n",
       "</style>\n",
       "<table border=\"1\" class=\"dataframe\">\n",
       "  <thead>\n",
       "    <tr style=\"text-align: right;\">\n",
       "      <th></th>\n",
       "      <th>month</th>\n",
       "      <th>company</th>\n",
       "      <th>unique_users</th>\n",
       "      <th>percentage_diff</th>\n",
       "    </tr>\n",
       "  </thead>\n",
       "  <tbody>\n",
       "    <tr>\n",
       "      <th>0</th>\n",
       "      <td>10</td>\n",
       "      <td>swiggy</td>\n",
       "      <td>18051</td>\n",
       "      <td>0.000000</td>\n",
       "    </tr>\n",
       "    <tr>\n",
       "      <th>2</th>\n",
       "      <td>11</td>\n",
       "      <td>swiggy</td>\n",
       "      <td>17158</td>\n",
       "      <td>-4.947094</td>\n",
       "    </tr>\n",
       "    <tr>\n",
       "      <th>4</th>\n",
       "      <td>12</td>\n",
       "      <td>swiggy</td>\n",
       "      <td>16246</td>\n",
       "      <td>-5.315305</td>\n",
       "    </tr>\n",
       "    <tr>\n",
       "      <th>1</th>\n",
       "      <td>10</td>\n",
       "      <td>zomato</td>\n",
       "      <td>15893</td>\n",
       "      <td>0.000000</td>\n",
       "    </tr>\n",
       "    <tr>\n",
       "      <th>3</th>\n",
       "      <td>11</td>\n",
       "      <td>zomato</td>\n",
       "      <td>15585</td>\n",
       "      <td>-1.937960</td>\n",
       "    </tr>\n",
       "    <tr>\n",
       "      <th>5</th>\n",
       "      <td>12</td>\n",
       "      <td>zomato</td>\n",
       "      <td>15190</td>\n",
       "      <td>-2.534488</td>\n",
       "    </tr>\n",
       "  </tbody>\n",
       "</table>\n",
       "</div>"
      ],
      "text/plain": [
       "  month company  unique_users  percentage_diff\n",
       "0    10  swiggy         18051         0.000000\n",
       "2    11  swiggy         17158        -4.947094\n",
       "4    12  swiggy         16246        -5.315305\n",
       "1    10  zomato         15893         0.000000\n",
       "3    11  zomato         15585        -1.937960\n",
       "5    12  zomato         15190        -2.534488"
      ]
     },
     "execution_count": 161,
     "metadata": {},
     "output_type": "execute_result"
    }
   ],
   "source": [
    "gga = gg.groupby(['month', 'company'])['user_id'].nunique().reset_index(name='unique_users').sort_values(['company', 'month'])\n",
    "gga[\"percentage_diff\"] = 0.0\n",
    "gga.month = gga.month.astype('str')\n",
    "\n",
    "for i in range(1, len(gga)):\n",
    "    if gga.iloc[i]['company'] == gga.iloc[i - 1]['company']:\n",
    "        diff = gga.iloc[i]['unique_users'] / gga.iloc[i - 1]['unique_users'] - 1\n",
    "        gga.at[gga.index[i], 'percentage_diff'] = diff * 100\n",
    "\n",
    "gga"
   ]
  },
  {
   "cell_type": "code",
   "execution_count": 162,
   "id": "0ea5ec48-7dd3-4e4c-8f5d-780a0ebc327c",
   "metadata": {},
   "outputs": [
    {
     "data": {
      "image/png": "[encoded data removed]",
      "text/plain": [
       "<Figure size 720x432 with 1 Axes>"
      ]
     },
     "metadata": {
      "needs_background": "light"
     },
     "output_type": "display_data"
    }
   ],
   "source": [
    "# Assuming 'month', 'company', and 'user_id' are columns in your DataFrame 'gga'\n",
    "plt.figure(figsize=(10, 6))\n",
    "sns.lineplot(x='month', y='unique_users', hue='company', data=gga, marker='o')\n",
    "plt.title('Unique Users vs. Month for Different Companies')\n",
    "plt.xlabel('Month')\n",
    "plt.ylabel('Unique Users count')\n",
    "plt.grid(True)\n",
    "plt.legend(title='Company', bbox_to_anchor=(1, 1), loc='upper left')\n",
    "plt.tight_layout()\n",
    "plt.show()"
   ]
  },
  {
   "cell_type": "code",
   "execution_count": 166,
   "id": "f93b8a99-951a-4352-9a78-006990eef928",
   "metadata": {},
   "outputs": [
    {
     "data": {
      "text/plain": [
       "-0.09999446014071242"
      ]
     },
     "execution_count": 166,
     "metadata": {},
     "output_type": "execute_result"
    }
   ],
   "source": [
    "(16246-18051)/18051"
   ]
  },
  {
   "cell_type": "code",
   "execution_count": 165,
   "id": "bf55e847-e765-4dab-9214-d66e7a378067",
   "metadata": {},
   "outputs": [
    {
     "data": {
      "text/plain": [
       "-0.044233310262379665"
      ]
     },
     "execution_count": 165,
     "metadata": {},
     "output_type": "execute_result"
    }
   ],
   "source": [
    "(15190 -15893) / 15893"
   ]
  },
  {
   "cell_type": "code",
   "execution_count": null,
   "id": "cf1efa25-fad6-472b-bc0f-ff8abe17470e",
   "metadata": {},
   "outputs": [],
   "source": []
  },
  {
   "cell_type": "code",
   "execution_count": 163,
   "id": "243bb866-4cc4-43ea-9c39-b5226f85a587",
   "metadata": {},
   "outputs": [
    {
     "data": {
      "text/html": [
       "<div>\n",
       "<style scoped>\n",
       "    .dataframe tbody tr th:only-of-type {\n",
       "        vertical-align: middle;\n",
       "    }\n",
       "\n",
       "    .dataframe tbody tr th {\n",
       "        vertical-align: top;\n",
       "    }\n",
       "\n",
       "    .dataframe thead th {\n",
       "        text-align: right;\n",
       "    }\n",
       "</style>\n",
       "<table border=\"1\" class=\"dataframe\">\n",
       "  <thead>\n",
       "    <tr style=\"text-align: right;\">\n",
       "      <th></th>\n",
       "      <th>unique_users</th>\n",
       "      <th>percentage_diff</th>\n",
       "    </tr>\n",
       "    <tr>\n",
       "      <th>company</th>\n",
       "      <th></th>\n",
       "      <th></th>\n",
       "    </tr>\n",
       "  </thead>\n",
       "  <tbody>\n",
       "    <tr>\n",
       "      <th>swiggy</th>\n",
       "      <td>51455</td>\n",
       "      <td>-10.262399</td>\n",
       "    </tr>\n",
       "    <tr>\n",
       "      <th>zomato</th>\n",
       "      <td>46668</td>\n",
       "      <td>-4.472448</td>\n",
       "    </tr>\n",
       "  </tbody>\n",
       "</table>\n",
       "</div>"
      ],
      "text/plain": [
       "         unique_users  percentage_diff\n",
       "company                               \n",
       "swiggy          51455       -10.262399\n",
       "zomato          46668        -4.472448"
      ]
     },
     "execution_count": 163,
     "metadata": {},
     "output_type": "execute_result"
    }
   ],
   "source": [
    "gga.groupby('company').sum()"
   ]
  },
  {
   "cell_type": "code",
   "execution_count": 164,
   "id": "dc0223c3-da30-4040-954e-d45b8f3f4f07",
   "metadata": {},
   "outputs": [
    {
     "data": {
      "text/plain": [
       "0.10257564069598012"
      ]
     },
     "execution_count": 164,
     "metadata": {},
     "output_type": "execute_result"
    }
   ],
   "source": [
    "(51455 - 46668) / 46668"
   ]
  },
  {
   "cell_type": "code",
   "execution_count": null,
   "id": "ae429d1c-f9a6-4df3-94a5-5e4940a01667",
   "metadata": {},
   "outputs": [],
   "source": []
  },
  {
   "cell_type": "code",
   "execution_count": 80,
   "id": "61e22e5b-f30b-4dad-a4f1-4772035ba375",
   "metadata": {},
   "outputs": [],
   "source": [
    "df[\"city\"] = df[['delivery_address_city', 'restaurant_address_city', 'user_address_city']].apply(\n",
    "    lambda row: next((x.lower().replace('&', 'and') for x in row if not pd.isnull(x)), np.nan), axis=1)"
   ]
  },
  {
   "cell_type": "code",
   "execution_count": 81,
   "id": "c04c76df-a37b-4136-9e53-1f1edda3568f",
   "metadata": {},
   "outputs": [
    {
     "data": {
      "text/html": [
       "<div>\n",
       "<style scoped>\n",
       "    .dataframe tbody tr th:only-of-type {\n",
       "        vertical-align: middle;\n",
       "    }\n",
       "\n",
       "    .dataframe tbody tr th {\n",
       "        vertical-align: top;\n",
       "    }\n",
       "\n",
       "    .dataframe thead th {\n",
       "        text-align: right;\n",
       "    }\n",
       "</style>\n",
       "<table border=\"1\" class=\"dataframe\">\n",
       "  <thead>\n",
       "    <tr style=\"text-align: right;\">\n",
       "      <th></th>\n",
       "      <th>month</th>\n",
       "      <th>company</th>\n",
       "      <th>city</th>\n",
       "      <th>user_id</th>\n",
       "    </tr>\n",
       "  </thead>\n",
       "  <tbody>\n",
       "    <tr>\n",
       "      <th>0</th>\n",
       "      <td>10</td>\n",
       "      <td>swiggy</td>\n",
       "      <td>abdal</td>\n",
       "      <td>2</td>\n",
       "    </tr>\n",
       "    <tr>\n",
       "      <th>1</th>\n",
       "      <td>10</td>\n",
       "      <td>swiggy</td>\n",
       "      <td>abohar</td>\n",
       "      <td>13</td>\n",
       "    </tr>\n",
       "    <tr>\n",
       "      <th>2</th>\n",
       "      <td>10</td>\n",
       "      <td>swiggy</td>\n",
       "      <td>adilabad</td>\n",
       "      <td>8</td>\n",
       "    </tr>\n",
       "    <tr>\n",
       "      <th>3</th>\n",
       "      <td>10</td>\n",
       "      <td>swiggy</td>\n",
       "      <td>adivarampet</td>\n",
       "      <td>1</td>\n",
       "    </tr>\n",
       "    <tr>\n",
       "      <th>4</th>\n",
       "      <td>10</td>\n",
       "      <td>swiggy</td>\n",
       "      <td>adoni</td>\n",
       "      <td>4</td>\n",
       "    </tr>\n",
       "    <tr>\n",
       "      <th>...</th>\n",
       "      <td>...</td>\n",
       "      <td>...</td>\n",
       "      <td>...</td>\n",
       "      <td>...</td>\n",
       "    </tr>\n",
       "    <tr>\n",
       "      <th>4768</th>\n",
       "      <td>12</td>\n",
       "      <td>zomato</td>\n",
       "      <td>yemmiganur</td>\n",
       "      <td>1</td>\n",
       "    </tr>\n",
       "    <tr>\n",
       "      <th>4769</th>\n",
       "      <td>12</td>\n",
       "      <td>zomato</td>\n",
       "      <td>yeotamal</td>\n",
       "      <td>1</td>\n",
       "    </tr>\n",
       "    <tr>\n",
       "      <th>4770</th>\n",
       "      <td>12</td>\n",
       "      <td>zomato</td>\n",
       "      <td>yerragondapalem</td>\n",
       "      <td>3</td>\n",
       "    </tr>\n",
       "    <tr>\n",
       "      <th>4771</th>\n",
       "      <td>12</td>\n",
       "      <td>zomato</td>\n",
       "      <td>zirakpur</td>\n",
       "      <td>129</td>\n",
       "    </tr>\n",
       "    <tr>\n",
       "      <th>4772</th>\n",
       "      <td>12</td>\n",
       "      <td>zomato</td>\n",
       "      <td>NaN</td>\n",
       "      <td>96</td>\n",
       "    </tr>\n",
       "  </tbody>\n",
       "</table>\n",
       "<p>4773 rows × 4 columns</p>\n",
       "</div>"
      ],
      "text/plain": [
       "      month company             city  user_id\n",
       "0        10  swiggy            abdal        2\n",
       "1        10  swiggy           abohar       13\n",
       "2        10  swiggy         adilabad        8\n",
       "3        10  swiggy      adivarampet        1\n",
       "4        10  swiggy            adoni        4\n",
       "...     ...     ...              ...      ...\n",
       "4768     12  zomato       yemmiganur        1\n",
       "4769     12  zomato         yeotamal        1\n",
       "4770     12  zomato  yerragondapalem        3\n",
       "4771     12  zomato         zirakpur      129\n",
       "4772     12  zomato              NaN       96\n",
       "\n",
       "[4773 rows x 4 columns]"
      ]
     },
     "execution_count": 81,
     "metadata": {},
     "output_type": "execute_result"
    }
   ],
   "source": [
    "gg = df[['month', 'company', 'city', 'user_id', 'transaction_id', 'order_subtotal']]\n",
    "gg = gg.groupby(['month', 'company', 'city', 'user_id', 'transaction_id'], dropna=False).count().reset_index()\n",
    "gg = gg.groupby(['month', 'company', 'city'], dropna=False).count().reset_index()[['month', 'company', 'city', 'user_id']]\n",
    "gg"
   ]
  },
  {
   "cell_type": "code",
   "execution_count": 83,
   "id": "fb2fcc48-67b9-4364-9a45-ff0a15e5767b",
   "metadata": {},
   "outputs": [
    {
     "data": {
      "text/plain": [
       "array(['abdal', 'abohar', 'adilabad', ..., 'uran islampur', 'yeotamal',\n",
       "       'yerragondapalem'], dtype=object)"
      ]
     },
     "execution_count": 83,
     "metadata": {},
     "output_type": "execute_result"
    }
   ],
   "source": [
    "gg.city.unique()"
   ]
  },
  {
   "cell_type": "code",
   "execution_count": 64,
   "id": "a61836d1-da40-446a-8807-f897f1093437",
   "metadata": {},
   "outputs": [
    {
     "data": {
      "text/plain": [
       "30852"
      ]
     },
     "execution_count": 64,
     "metadata": {},
     "output_type": "execute_result"
    }
   ],
   "source": [
    "len(gg[gg.month == 10].user_id.unique())"
   ]
  },
  {
   "cell_type": "code",
   "execution_count": 20,
   "id": "1f89a0ad-6de3-4cfe-8fff-07b0a3f64b59",
   "metadata": {},
   "outputs": [
    {
     "data": {
      "text/plain": [
       "46064190.37"
      ]
     },
     "execution_count": 20,
     "metadata": {},
     "output_type": "execute_result"
    }
   ],
   "source": [
    "df[df.month==10].groupby('transaction_id').mean()['order_amount_paid'].sum()"
   ]
  },
  {
   "cell_type": "code",
   "execution_count": 22,
   "id": "796f52fd-a67e-460b-b7ce-be5b58e88b1e",
   "metadata": {},
   "outputs": [
    {
     "data": {
      "text/plain": [
       "44345136.71"
      ]
     },
     "execution_count": 22,
     "metadata": {},
     "output_type": "execute_result"
    }
   ],
   "source": [
    "df[df.month==11].groupby('transaction_id').mean()['order_amount_paid'].sum()"
   ]
  },
  {
   "cell_type": "code",
   "execution_count": 21,
   "id": "5ac74995-e623-44b6-8028-24c18a0994a9",
   "metadata": {},
   "outputs": [
    {
     "data": {
      "text/plain": [
       "44084688.01999999"
      ]
     },
     "execution_count": 21,
     "metadata": {},
     "output_type": "execute_result"
    }
   ],
   "source": [
    "df[df.month==12].groupby('transaction_id').mean()['order_amount_paid'].sum()"
   ]
  },
  {
   "cell_type": "code",
   "execution_count": null,
   "id": "0ca8717a-cfc9-4486-8b14-3d16eb625ad5",
   "metadata": {},
   "outputs": [],
   "source": []
  },
  {
   "cell_type": "code",
   "execution_count": null,
   "id": "e473eeb7-3902-42c6-8fc9-238c22db0ba9",
   "metadata": {},
   "outputs": [],
   "source": []
  },
  {
   "cell_type": "code",
   "execution_count": null,
   "id": "57c72a99-80e3-45c8-93e9-9acb55196443",
   "metadata": {},
   "outputs": [],
   "source": []
  }
 ],
 "metadata": {
  "kernelspec": {
   "display_name": "Python 3 (ipykernel)",
   "language": "python",
   "name": "python3"
  },
  "language_info": {
   "codemirror_mode": {
    "name": "ipython",
    "version": 3
   },
   "file_extension": ".py",
   "mimetype": "text/x-python",
   "name": "python",
   "nbconvert_exporter": "python",
   "pygments_lexer": "ipython3",
   "version": "3.7.7"
  }
 },
 "nbformat": 4,
 "nbformat_minor": 5
}
