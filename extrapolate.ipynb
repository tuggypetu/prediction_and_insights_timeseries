{
 "cells": [
  {
   "cell_type": "code",
   "execution_count": 1,
   "id": "2c405fd1-33fc-40e0-aa24-1f97911a598d",
   "metadata": {},
   "outputs": [],
   "source": [
    "import pandas as pd\n",
    "import matplotlib.pyplot as plt\n",
    "import seaborn as sns"
   ]
  },
  {
   "cell_type": "code",
   "execution_count": 2,
   "id": "a98e6ada-cc68-41bf-a745-8dc9be769163",
   "metadata": {},
   "outputs": [],
   "source": [
    "pd.set_option('display.max_columns', None)\n",
    "# pd.set_option('display.max_rows', 100)\n",
    "df_oct = pd.read_csv(\"data/vumonic_india_food_delivery_20231001_20231031.csv\", low_memory=False)\n",
    "df_nov = pd.read_csv(\"data/vumonic_india_food_delivery_20231101_20231130.csv\", low_memory=False)\n",
    "\n",
    "# with open('data/vumonic_india_food_delivery_20231201_20231231.csv', 'r') as f:\n",
    "#     first_line = f.readline()\n",
    "# columns = first_line.replace('\\n', '').split(',')\n",
    "columns = df_nov.columns\n",
    "\n",
    "df_dec = pd.read_csv('data/vumonic_india_food_delivery_20231201_20231231.csv', usecols=columns, encoding='latin-1', low_memory=False)\n",
    "\n",
    "df = pd.concat([df_dec, df_nov, df_oct], ignore_index=True)\n",
    "drop_columns = ['mid', 'sender_id', 'year', 'month', 'day', 'order_promotion_discount', \n",
    "                'order_coupon_discount', 'order_seller_discount', 'order_delivery_discount',\n",
    "                'order_status', 'order_delivery_discount', 'delivery_address_postal_code', \n",
    "                'restaurant_address_postal_code', 'user_dob', 'user_address_postal_code', 'user_address_country']\n",
    "df =  df.drop(drop_columns, axis=1)\n",
    "df = df[df['user_age'] != 'male']"
   ]
  },
  {
   "cell_type": "code",
   "execution_count": 3,
   "id": "43a1f65b-ccd8-4959-9e40-31787ec4f778",
   "metadata": {},
   "outputs": [
    {
     "data": {
      "text/plain": [
       "741082"
      ]
     },
     "execution_count": 3,
     "metadata": {},
     "output_type": "execute_result"
    }
   ],
   "source": [
    "df.shape[0]"
   ]
  },
  {
   "cell_type": "code",
   "execution_count": 4,
   "id": "b1d5b410-60de-4280-b870-cac772c2c058",
   "metadata": {},
   "outputs": [
    {
     "data": {
      "text/plain": [
       "160422"
      ]
     },
     "execution_count": 4,
     "metadata": {},
     "output_type": "execute_result"
    }
   ],
   "source": [
    "df[df['user_gender'] == 'female'].shape[0]"
   ]
  },
  {
   "cell_type": "code",
   "execution_count": 5,
   "id": "536a7163-0b31-4820-9de5-0ccbdbbff3aa",
   "metadata": {},
   "outputs": [],
   "source": [
    "male_percentage_demo = 0.66\n",
    "female_percentage_demo = 0.34\n",
    "\n",
    "total_number_of_samples = df.shape[0]\n",
    "male_population_in_data = df[df['user_gender'] == 'male'].shape[0]\n",
    "female_population_in_data = df[df['user_gender'] == 'female'].shape[0]\n",
    "\n",
    "male_percentage_data = male_population_in_data / total_number_of_samples\n",
    "female_percentage_data = female_population_in_data / total_number_of_samples\n",
    "\n",
    "male_weight = male_percentage_demo / male_percentage_data\n",
    "female_weight = female_percentage_demo / female_percentage_data\n"
   ]
  },
  {
   "cell_type": "code",
   "execution_count": 6,
   "id": "647a75e5-f721-4367-990d-82ab87a56c33",
   "metadata": {},
   "outputs": [
    {
     "data": {
      "text/plain": [
       "(0.894319598034053, 1.5706566431038138)"
      ]
     },
     "execution_count": 6,
     "metadata": {},
     "output_type": "execute_result"
    }
   ],
   "source": [
    "male_weight, female_weight"
   ]
  },
  {
   "cell_type": "code",
   "execution_count": 7,
   "id": "4a120f6b-315b-481a-8a4c-62a1e98b2860",
   "metadata": {},
   "outputs": [],
   "source": [
    "def add_gender_weights(gender, male_weight, female_weight):\n",
    "    if gender == \"male\":\n",
    "        return male_weight\n",
    "    if gender == \"female\":\n",
    "        return female_weight\n",
    "    else:\n",
    "        return 1.0"
   ]
  },
  {
   "cell_type": "code",
   "execution_count": 8,
   "id": "30003710-df1f-4345-b63e-d076f1baf6d8",
   "metadata": {},
   "outputs": [],
   "source": [
    "df['weight_gender'] = df['user_gender'].apply(lambda x: add_gender_weights(x, male_weight, female_weight))\n"
   ]
  },
  {
   "cell_type": "code",
   "execution_count": 9,
   "id": "2ab98b4e-09c2-4072-8d55-60ee5254df1f",
   "metadata": {},
   "outputs": [
    {
     "data": {
      "text/plain": [
       "swiggy    393367\n",
       "zomato    347715\n",
       "Name: company, dtype: int64"
      ]
     },
     "execution_count": 9,
     "metadata": {},
     "output_type": "execute_result"
    }
   ],
   "source": [
    "df.company.value_counts()"
   ]
  },
  {
   "cell_type": "code",
   "execution_count": 10,
   "id": "90586069-4cb1-42fc-be75-c5d360125826",
   "metadata": {},
   "outputs": [
    {
     "data": {
      "text/plain": [
       "347715"
      ]
     },
     "execution_count": 10,
     "metadata": {},
     "output_type": "execute_result"
    }
   ],
   "source": [
    "df[df['company'] == 'zomato'].shape[0]"
   ]
  },
  {
   "cell_type": "code",
   "execution_count": 11,
   "id": "04bfb64e-ee3e-4a5d-a18d-06566288d691",
   "metadata": {},
   "outputs": [],
   "source": [
    "zomato_market  = 0.54\n",
    "swiggy_market = 0.46\n",
    "\n",
    "total_orders = df.shape[0]\n",
    "zomato_orders = df[df['company'] == 'zomato'].shape[0]\n",
    "swiggy_orders = df[df['company'] == 'swiggy'].shape[0]\n",
    "\n",
    "zomato_data =  zomato_orders / total_orders\n",
    "swiggy_data =  swiggy_orders / total_orders\n",
    "\n",
    "zomato_weight = zomato_market  /  zomato_data\n",
    "swiggy_weight = swiggy_market  /  swiggy_data\n"
   ]
  },
  {
   "cell_type": "code",
   "execution_count": 12,
   "id": "5d8960a9-281d-495a-b033-ad3fb23c0488",
   "metadata": {},
   "outputs": [
    {
     "data": {
      "text/plain": [
       "(1.1508973728484535, 0.8666149422803642)"
      ]
     },
     "execution_count": 12,
     "metadata": {},
     "output_type": "execute_result"
    }
   ],
   "source": [
    "zomato_weight, swiggy_weight"
   ]
  },
  {
   "cell_type": "code",
   "execution_count": 16,
   "id": "11f317e6-5d14-4971-ac34-a970bbb0b8d1",
   "metadata": {},
   "outputs": [
    {
     "data": {
      "text/plain": [
       "134467411.16000003"
      ]
     },
     "execution_count": 16,
     "metadata": {},
     "output_type": "execute_result"
    }
   ],
   "source": [
    "df.groupby('transaction_id').mean().reset_index()['order_amount_paid'].sum()"
   ]
  },
  {
   "cell_type": "code",
   "execution_count": 17,
   "id": "3d3db606-4780-4344-a364-c9f168fa3b8d",
   "metadata": {},
   "outputs": [
    {
     "data": {
      "text/plain": [
       "134467411.16"
      ]
     },
     "execution_count": 17,
     "metadata": {},
     "output_type": "execute_result"
    }
   ],
   "source": [
    "sum([46058147.37,\n",
    "44335482.71,\n",
    "44073781.08])\n",
    "\n"
   ]
  },
  {
   "cell_type": "code",
   "execution_count": null,
   "id": "ff726e7d-81aa-4e9f-9426-08582ff57e59",
   "metadata": {},
   "outputs": [],
   "source": []
  },
  {
   "cell_type": "code",
   "execution_count": null,
   "id": "e2502872-7263-4b81-9376-108e4277ba48",
   "metadata": {},
   "outputs": [],
   "source": []
  }
 ],
 "metadata": {
  "kernelspec": {
   "display_name": "Python 3 (ipykernel)",
   "language": "python",
   "name": "python3"
  },
  "language_info": {
   "codemirror_mode": {
    "name": "ipython",
    "version": 3
   },
   "file_extension": ".py",
   "mimetype": "text/x-python",
   "name": "python",
   "nbconvert_exporter": "python",
   "pygments_lexer": "ipython3",
   "version": "3.7.7"
  }
 },
 "nbformat": 4,
 "nbformat_minor": 5
}
